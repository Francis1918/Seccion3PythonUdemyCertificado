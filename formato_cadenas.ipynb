{
 "cells": [
  {
   "metadata": {},
   "cell_type": "markdown",
   "source": [
    "#formato de cadenas en python\n",
    "# uso de f-strings (Requires Python 3.6+) y Recomendado por la comunidad\n",
    "# Definicion de variables"
   ],
   "id": "752bd29494b4efc1"
  },
  {
   "cell_type": "code",
   "execution_count": null,
   "id": "initial_id",
   "metadata": {
    "collapsed": true
   },
   "outputs": [],
   "source": [
    "nombre = 'Juan'\n",
    "apellido = 'Gonzalez'\n",
    "edad= 30\n",
    "resultado = f'Hola {nombre} {apellido}, tengo {edad} años'\n",
    "print(resultado)"
   ]
  },
  {
   "metadata": {},
   "cell_type": "markdown",
   "source": "#metodo format",
   "id": "34989fe7a32b58fa"
  },
  {
   "metadata": {},
   "cell_type": "code",
   "outputs": [],
   "execution_count": null,
   "source": [
    "resultado2 = 'Hola {} {}, tengo {} años'.format(nombre, apellido, edad)\n",
    "print(resultado2)"
   ],
   "id": "13f6eeedc77c9c38"
  }
 ],
 "metadata": {
  "kernelspec": {
   "display_name": "Python 3",
   "language": "python",
   "name": "python3"
  },
  "language_info": {
   "codemirror_mode": {
    "name": "ipython",
    "version": 2
   },
   "file_extension": ".py",
   "mimetype": "text/x-python",
   "name": "python",
   "nbconvert_exporter": "python",
   "pygments_lexer": "ipython2",
   "version": "2.7.6"
  }
 },
 "nbformat": 4,
 "nbformat_minor": 5
}

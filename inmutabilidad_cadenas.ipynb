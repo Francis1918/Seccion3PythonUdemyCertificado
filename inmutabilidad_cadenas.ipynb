{
 "cells": [
  {
   "metadata": {},
   "cell_type": "markdown",
   "source": "# inmutabilidad en cadenas",
   "id": "51cedc8ddd82bd44"
  },
  {
   "cell_type": "code",
   "execution_count": null,
   "id": "initial_id",
   "metadata": {
    "collapsed": true
   },
   "outputs": [],
   "source": "cadena1 = \"Hola mundo\""
  },
  {
   "metadata": {},
   "cell_type": "markdown",
   "source": [
    "#cadena1[0] = \"h\"  # Esto generará un error porque las cadenas son inmutables\n",
    "# el str no soporta la asignación de un índice\n",
    "# cadena1[0] = \"h\"  # Esto generará un error porque las cadenas son inmutables"
   ],
   "id": "b36f64f486dbb191"
  },
  {
   "metadata": {},
   "cell_type": "code",
   "outputs": [],
   "execution_count": null,
   "source": [
    "cadena2=cadena1#respaldo de la variable de cadena1 original antes del cambio\n",
    "cadena1 = 'Adios'\n",
    "print(cadena1)\n",
    "print(cadena2)"
   ],
   "id": "f04e4baf7dec3fbe"
  }
 ],
 "metadata": {
  "kernelspec": {
   "display_name": "Python 3",
   "language": "python",
   "name": "python3"
  },
  "language_info": {
   "codemirror_mode": {
    "name": "ipython",
    "version": 2
   },
   "file_extension": ".py",
   "mimetype": "text/x-python",
   "name": "python",
   "nbconvert_exporter": "python",
   "pygments_lexer": "ipython2",
   "version": "2.7.6"
  }
 },
 "nbformat": 4,
 "nbformat_minor": 5
}

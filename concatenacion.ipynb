{
 "cells": [
  {
   "metadata": {},
   "cell_type": "markdown",
   "source": [
    "#Concatenacion de Cadenas\n",
    "# uso del operador +"
   ],
   "id": "ee713bad23d640b"
  },
  {
   "cell_type": "code",
   "execution_count": null,
   "id": "initial_id",
   "metadata": {
    "collapsed": true
   },
   "outputs": [],
   "source": [
    "concatenacion = \"Hola\" + \" \" + \"Mundo\"\n",
    "print(concatenacion)"
   ]
  },
  {
   "metadata": {},
   "cell_type": "markdown",
   "source": "# uso de la funcion join",
   "id": "64d2e15c3504b784"
  },
  {
   "metadata": {},
   "cell_type": "markdown",
   "source": [
    "cadena1 = \"Hola\"\n",
    "cadena2 = \"Mundo\"\n",
    "cadena3 = \" \"\n",
    "cadena4 = \"!\"\n",
    "cadena5 = cadena3.join([cadena1, cadena2, cadena3, cadena4])\n",
    "print(cadena5)\n"
   ],
   "id": "2f5c5a36196a8db"
  }
 ],
 "metadata": {
  "kernelspec": {
   "display_name": "Python 3",
   "language": "python",
   "name": "python3"
  },
  "language_info": {
   "codemirror_mode": {
    "name": "ipython",
    "version": 2
   },
   "file_extension": ".py",
   "mimetype": "text/x-python",
   "name": "python",
   "nbconvert_exporter": "python",
   "pygments_lexer": "ipython2",
   "version": "2.7.6"
  }
 },
 "nbformat": 4,
 "nbformat_minor": 5
}

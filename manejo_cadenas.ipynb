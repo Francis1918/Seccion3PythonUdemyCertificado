{
 "cells": [
  {
   "metadata": {},
   "cell_type": "markdown",
   "source": [
    "#Cadenas en Python\n",
    "#para definir cadenas se utilizan comillas simples o dobles\n",
    "#Ejemplo de cadena de una sola línea"
   ],
   "id": "295db9bb1cb3a77b"
  },
  {
   "cell_type": "code",
   "execution_count": null,
   "id": "initial_id",
   "metadata": {
    "collapsed": true
   },
   "outputs": [],
   "source": [
    "cadena1='hola mundo'\n",
    "cadena1='adios'\n",
    "cadena2='python es genial'"
   ]
  },
  {
   "metadata": {},
   "cell_type": "markdown",
   "source": "#Ejemplo de cadena de varias líneas",
   "id": "6c51cd5ed8a4e599"
  },
  {
   "metadata": {},
   "cell_type": "code",
   "outputs": [],
   "execution_count": null,
   "source": [
    "cadena3='''esto es una cadena\n",
    "    de varias lineas\n",
    "        en una cadena'''\n",
    "print(cadena1)\n",
    "print(cadena2)\n",
    "print(cadena3)"
   ],
   "id": "7dcaec8162f25e5e"
  }
 ],
 "metadata": {
  "kernelspec": {
   "display_name": "Python 3",
   "language": "python",
   "name": "python3"
  },
  "language_info": {
   "codemirror_mode": {
    "name": "ipython",
    "version": 2
   },
   "file_extension": ".py",
   "mimetype": "text/x-python",
   "name": "python",
   "nbconvert_exporter": "python",
   "pygments_lexer": "ipython2",
   "version": "2.7.6"
  }
 },
 "nbformat": 4,
 "nbformat_minor": 5
}

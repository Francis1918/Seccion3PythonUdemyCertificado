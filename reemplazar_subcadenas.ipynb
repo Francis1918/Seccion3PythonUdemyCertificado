{
 "cells": [
  {
   "metadata": {},
   "cell_type": "markdown",
   "source": [
    "#reemplazo de subcandenas en un string\n",
    "#damos el uso del metodo replace\n",
    "# Definimos la cadena original"
   ],
   "id": "1e46711f3bbaa962"
  },
  {
   "cell_type": "code",
   "execution_count": null,
   "id": "initial_id",
   "metadata": {
    "collapsed": true
   },
   "outputs": [],
   "source": [
    "cadena = \"hola mundo\"\n",
    "print(f\"La cadena es: {cadena}\")\n",
    "nueva_cadena = cadena.replace('mundo', 'a todos')\n",
    "print(f\"La nueva cadena es: {nueva_cadena}\")"
   ]
  },
  {
   "metadata": {},
   "cell_type": "markdown",
   "source": "#sustituir hola por adios",
   "id": "be1db2bc3b5e0601"
  },
  {
   "metadata": {},
   "cell_type": "code",
   "outputs": [],
   "execution_count": null,
   "source": [
    "nueva_cadena2 = nueva_cadena.replace('hola', 'adios')\n",
    "print(f\"La nueva cadena es: {nueva_cadena2}\")"
   ],
   "id": "c447f838db029505"
  }
 ],
 "metadata": {
  "kernelspec": {
   "display_name": "Python 3",
   "language": "python",
   "name": "python3"
  },
  "language_info": {
   "codemirror_mode": {
    "name": "ipython",
    "version": 2
   },
   "file_extension": ".py",
   "mimetype": "text/x-python",
   "name": "python",
   "nbconvert_exporter": "python",
   "pygments_lexer": "ipython2",
   "version": "2.7.6"
  }
 },
 "nbformat": 4,
 "nbformat_minor": 5
}

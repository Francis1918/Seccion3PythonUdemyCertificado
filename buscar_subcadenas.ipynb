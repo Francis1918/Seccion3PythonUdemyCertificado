{
 "cells": [
  {
   "metadata": {},
   "cell_type": "markdown",
   "source": [
    "#buscar subcadenas en un string\n",
    "#uso del metodo find() solo regresa de la primera vez que encuentra la subcadena\n",
    "# Definimos la cadena de texto"
   ],
   "id": "128fc35944bb4a14"
  },
  {
   "cell_type": "code",
   "execution_count": null,
   "id": "initial_id",
   "metadata": {
    "collapsed": true
   },
   "outputs": [],
   "source": [
    "cadena ='hola, mundo!'\n",
    "indice = cadena.find('mundo')"
   ]
  },
  {
   "metadata": {},
   "cell_type": "markdown",
   "source": "# Verificamos si se encontró la subcadena",
   "id": "65176f86dac87c11"
  },
  {
   "metadata": {},
   "cell_type": "code",
   "outputs": [],
   "execution_count": null,
   "source": "print(f\"El indice de la cadena es: {indice}\")",
   "id": "3bcceeebc983e130"
  },
  {
   "metadata": {},
   "cell_type": "markdown",
   "source": "#obtener el indice de la subcadena hola",
   "id": "51e6754b9583798f"
  },
  {
   "metadata": {},
   "cell_type": "code",
   "outputs": [],
   "execution_count": null,
   "source": [
    "indice = cadena.find('hola')\n",
    "print(f\"El indice de la cadena es: {indice}\")"
   ],
   "id": "cf57124a86e05051"
  }
 ],
 "metadata": {
  "kernelspec": {
   "display_name": "Python 3",
   "language": "python",
   "name": "python3"
  },
  "language_info": {
   "codemirror_mode": {
    "name": "ipython",
    "version": 2
   },
   "file_extension": ".py",
   "mimetype": "text/x-python",
   "name": "python",
   "nbconvert_exporter": "python",
   "pygments_lexer": "ipython2",
   "version": "2.7.6"
  }
 },
 "nbformat": 4,
 "nbformat_minor": 5
}

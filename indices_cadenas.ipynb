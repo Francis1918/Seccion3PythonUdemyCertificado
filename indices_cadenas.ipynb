{
 "cells": [
  {
   "metadata": {},
   "cell_type": "markdown",
   "source": "indices cadenas",
   "id": "71f4cdb6a5d94580"
  },
  {
   "cell_type": "code",
   "execution_count": null,
   "id": "initial_id",
   "metadata": {
    "collapsed": true
   },
   "outputs": [],
   "source": [
    "cadena1 =\"hola mundo\"\n",
    "print(cadena1)"
   ]
  },
  {
   "metadata": {},
   "cell_type": "markdown",
   "source": "#recuperar el primer caracter",
   "id": "f9893b05364f3e63"
  },
  {
   "metadata": {},
   "cell_type": "code",
   "outputs": [],
   "execution_count": null,
   "source": [
    "primer_caracter = cadena1[0]\n",
    "print(primer_caracter)\n",
    "ultima_caracter = cadena1[-1]\n",
    "print(ultima_caracter)"
   ],
   "id": "be9ba17b49d3805c"
  }
 ],
 "metadata": {
  "kernelspec": {
   "display_name": "Python 3",
   "language": "python",
   "name": "python3"
  },
  "language_info": {
   "codemirror_mode": {
    "name": "ipython",
    "version": 2
   },
   "file_extension": ".py",
   "mimetype": "text/x-python",
   "name": "python",
   "nbconvert_exporter": "python",
   "pygments_lexer": "ipython2",
   "version": "2.7.6"
  }
 },
 "nbformat": 4,
 "nbformat_minor": 5
}

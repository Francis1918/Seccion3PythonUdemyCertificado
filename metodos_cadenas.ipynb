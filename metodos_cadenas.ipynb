{
 "cells": [
  {
   "metadata": {},
   "cell_type": "markdown",
   "source": [
    "#medotos cadenas en pytohn\n",
    "# 1. Definir una cadena de texto y mostrarla en pantalla."
   ],
   "id": "711ef911ef299a11"
  },
  {
   "cell_type": "code",
   "execution_count": null,
   "id": "initial_id",
   "metadata": {
    "collapsed": true
   },
   "outputs": [],
   "source": [
    "cadena = \"Hola mundo\"\n",
    "print(f'Cadena original: {cadena}')"
   ]
  },
  {
   "metadata": {},
   "cell_type": "markdown",
   "source": "# 2. Contar el número de caracteres de una cadena.",
   "id": "678105adf747aee7"
  },
  {
   "metadata": {},
   "cell_type": "code",
   "outputs": [],
   "execution_count": null,
   "source": "print(len(cadena))",
   "id": "e5374dad1b5e6e9a"
  },
  {
   "metadata": {},
   "cell_type": "markdown",
   "source": "# 3. Convertir una cadena a mayúsculas y minúsculas.",
   "id": "8bb4ced290508bf1"
  },
  {
   "metadata": {},
   "cell_type": "code",
   "outputs": [],
   "execution_count": null,
   "source": [
    "mayusculas = cadena.upper()\n",
    "print(mayusculas)\n",
    "minusculas = cadena.lower()\n",
    "print(minusculas)\n",
    "cadena2 = ' Hola Mundo '\n",
    "print(cadena2)\n",
    "print('Cadena sin espacios:', cadena2.strip())"
   ],
   "id": "fbfb14cb2970113c"
  }
 ],
 "metadata": {
  "kernelspec": {
   "display_name": "Python 3",
   "language": "python",
   "name": "python3"
  },
  "language_info": {
   "codemirror_mode": {
    "name": "ipython",
    "version": 2
   },
   "file_extension": ".py",
   "mimetype": "text/x-python",
   "name": "python",
   "nbconvert_exporter": "python",
   "pygments_lexer": "ipython2",
   "version": "2.7.6"
  }
 },
 "nbformat": 4,
 "nbformat_minor": 5
}

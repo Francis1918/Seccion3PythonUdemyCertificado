{
 "cells": [
  {
   "metadata": {},
   "cell_type": "markdown",
   "source": [
    "#largo de una cadena en python\n",
    "# Definimos la cadena"
   ],
   "id": "db5eb0e5cc51408e"
  },
  {
   "cell_type": "code",
   "execution_count": null,
   "id": "initial_id",
   "metadata": {
    "collapsed": true
   },
   "outputs": [],
   "source": "cadena = \"Hola, mundo!\""
  },
  {
   "metadata": {},
   "cell_type": "markdown",
   "source": "# Obtenemos el largo de la cadena",
   "id": "b32052530c0036a2"
  },
  {
   "metadata": {},
   "cell_type": "code",
   "outputs": [],
   "execution_count": null,
   "source": "largo = len(cadena)",
   "id": "46c2f29a54d4f6b1"
  },
  {
   "metadata": {},
   "cell_type": "markdown",
   "source": "# Mostramos el resultado",
   "id": "deb09d09e6335e23"
  },
  {
   "metadata": {},
   "cell_type": "code",
   "outputs": [],
   "execution_count": null,
   "source": "print(f\"El largo de la cadena es:{largo}\")",
   "id": "4a48d5b7aee1bafa"
  },
  {
   "metadata": {},
   "cell_type": "markdown",
   "source": "# Forma alternativa de mostrar el resultado",
   "id": "e91dbbcf63d02572"
  },
  {
   "metadata": {},
   "cell_type": "code",
   "outputs": [],
   "execution_count": null,
   "source": "print(f\"El largo de la cadena es:{len(cadena)}\")",
   "id": "d582293e234f6e86"
  }
 ],
 "metadata": {
  "kernelspec": {
   "display_name": "Python 3",
   "language": "python",
   "name": "python3"
  },
  "language_info": {
   "codemirror_mode": {
    "name": "ipython",
    "version": 2
   },
   "file_extension": ".py",
   "mimetype": "text/x-python",
   "name": "python",
   "nbconvert_exporter": "python",
   "pygments_lexer": "ipython2",
   "version": "2.7.6"
  }
 },
 "nbformat": 4,
 "nbformat_minor": 5
}

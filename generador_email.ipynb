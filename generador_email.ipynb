{
 "cells": [
  {
   "metadata": {},
   "cell_type": "markdown",
   "source": "#generador de Email",
   "id": "b460aa6af6495b2f"
  },
  {
   "cell_type": "code",
   "execution_count": null,
   "id": "initial_id",
   "metadata": {
    "collapsed": true
   },
   "outputs": [],
   "source": [
    "nombre = ' Francis Bravo '\n",
    "organiazacion = ' Escuela Politécnica Nacional '\n",
    "dominio = ' epn.edu.ec '\n",
    "print(f'Nombre: {nombre}')"
   ]
  },
  {
   "metadata": {},
   "cell_type": "markdown",
   "source": "#Normalizar el nombre",
   "id": "853c19c055f6e7cf"
  },
  {
   "metadata": {},
   "cell_type": "code",
   "outputs": [],
   "execution_count": null,
   "source": [
    "nombre_usuario = nombre.strip()#un metodo a la vez\n",
    "nombre_usuario = nombre_usuario.lower()#un metodo a la vez\n",
    "nombre_usuario = nombre_usuario.replace(' ', '.')#un metodo a la vez\n",
    "print(f'Nombre de usuario: {nombre_usuario}')\n",
    "print(f'Organizacion: {organiazacion}')\n",
    "organiazacion = organiazacion.strip()#un metodo a la vez"
   ],
   "id": "8bd7d92401b61721"
  },
  {
   "metadata": {},
   "cell_type": "markdown",
   "source": "#extension del dominio",
   "id": "1f956441531b9419"
  },
  {
   "metadata": {},
   "cell_type": "code",
   "outputs": [],
   "execution_count": null,
   "source": [
    "dominio = dominio.strip()\n",
    "print(f'Dominio: {dominio}')"
   ],
   "id": "1fca318f55392c0"
  },
  {
   "metadata": {},
   "cell_type": "markdown",
   "source": "#Generar el email",
   "id": "594eca204c3fe014"
  },
  {
   "metadata": {},
   "cell_type": "code",
   "outputs": [],
   "execution_count": null,
   "source": [
    "email = f'{nombre_usuario}@{dominio}'\n",
    "print(f'Email: {email}')"
   ],
   "id": "3334e82edf467796"
  }
 ],
 "metadata": {
  "kernelspec": {
   "display_name": "Python 3",
   "language": "python",
   "name": "python3"
  },
  "language_info": {
   "codemirror_mode": {
    "name": "ipython",
    "version": 2
   },
   "file_extension": ".py",
   "mimetype": "text/x-python",
   "name": "python",
   "nbconvert_exporter": "python",
   "pygments_lexer": "ipython2",
   "version": "2.7.6"
  }
 },
 "nbformat": 4,
 "nbformat_minor": 5
}

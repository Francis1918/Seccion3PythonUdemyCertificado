{
 "cells": [
  {
   "metadata": {},
   "cell_type": "markdown",
   "source": [
    "#extraer subcadena con el metodo split\n",
    "# Definimos la cadena de texto'"
   ],
   "id": "830f69e39395f877"
  },
  {
   "cell_type": "code",
   "execution_count": null,
   "id": "initial_id",
   "metadata": {
    "collapsed": true
   },
   "outputs": [],
   "source": [
    "dato = 'Juan, 30, mexico'\n",
    "lista = dato.split(', ')"
   ]
  },
  {
   "metadata": {},
   "cell_type": "markdown",
   "source": "# Imprimimos la lista",
   "id": "56567582fef922f3"
  },
  {
   "metadata": {},
   "cell_type": "code",
   "outputs": [],
   "execution_count": null,
   "source": "print(lista)",
   "id": "1cfcf551a140edae"
  }
 ],
 "metadata": {
  "kernelspec": {
   "display_name": "Python 3",
   "language": "python",
   "name": "python3"
  },
  "language_info": {
   "codemirror_mode": {
    "name": "ipython",
    "version": 2
   },
   "file_extension": ".py",
   "mimetype": "text/x-python",
   "name": "python",
   "nbconvert_exporter": "python",
   "pygments_lexer": "ipython2",
   "version": "2.7.6"
  }
 },
 "nbformat": 4,
 "nbformat_minor": 5
}

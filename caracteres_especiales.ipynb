{
 "cells": [
  {
   "metadata": {},
   "cell_type": "markdown",
   "source": [
    "#Caracteres especiales\n",
    "#sirven  para dar un cierto formato a la cadena de texto\n",
    "# \\n -> Nueva línea"
   ],
   "id": "8823f34fada4cb4b"
  },
  {
   "cell_type": "code",
   "execution_count": null,
   "id": "initial_id",
   "metadata": {
    "collapsed": true
   },
   "outputs": [],
   "source": "print('Hola\\nMundo')"
  },
  {
   "metadata": {},
   "cell_type": "markdown",
   "source": "# \\t -> Tabulación",
   "id": "3c453e315d2028cb"
  },
  {
   "metadata": {},
   "cell_type": "code",
   "outputs": [],
   "execution_count": null,
   "source": "print('Hola\\tMundo')",
   "id": "4250fe5431e59f20"
  },
  {
   "metadata": {},
   "cell_type": "markdown",
   "source": "# comillas simples -> \\'",
   "id": "6bce4d7b62482951"
  },
  {
   "metadata": {},
   "cell_type": "code",
   "outputs": [],
   "execution_count": null,
   "source": "print('Hola \\'Mundo\\'')",
   "id": "80774df463dfe532"
  },
  {
   "metadata": {},
   "cell_type": "markdown",
   "source": "# comillas dobles -> \\\"",
   "id": "fda71f2389b6feeb"
  },
  {
   "metadata": {},
   "cell_type": "code",
   "outputs": [],
   "execution_count": null,
   "source": "print(\"Hola \\\"Mundo\\\"\")",
   "id": "a94349e56f0bf92f"
  },
  {
   "metadata": {},
   "cell_type": "markdown",
   "source": "# barra invertida -> \\\\",
   "id": "b9acc4ef5836b093"
  },
  {
   "metadata": {},
   "cell_type": "code",
   "outputs": [],
   "execution_count": null,
   "source": "print('Hola \\\\ Mundo')",
   "id": "11133f3b3a4be0b8"
  }
 ],
 "metadata": {
  "kernelspec": {
   "display_name": "Python 3",
   "language": "python",
   "name": "python3"
  },
  "language_info": {
   "codemirror_mode": {
    "name": "ipython",
    "version": 2
   },
   "file_extension": ".py",
   "mimetype": "text/x-python",
   "name": "python",
   "nbconvert_exporter": "python",
   "pygments_lexer": "ipython2",
   "version": "2.7.6"
  }
 },
 "nbformat": 4,
 "nbformat_minor": 5
}

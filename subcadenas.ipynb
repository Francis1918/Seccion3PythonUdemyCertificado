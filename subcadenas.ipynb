{
 "cells": [
  {
   "metadata": {},
   "cell_type": "markdown",
   "source": [
    "#extraer una sub cadena usando slicing\n",
    "#Manejo de sub cadenas"
   ],
   "id": "1f7eb9ba1c256a3f"
  },
  {
   "cell_type": "code",
   "execution_count": null,
   "id": "initial_id",
   "metadata": {
    "collapsed": true
   },
   "outputs": [],
   "source": "cadena = \"Hola Mundo\""
  },
  {
   "metadata": {},
   "cell_type": "markdown",
   "source": "#Extraer la subcadena \"Hola\"",
   "id": "12aa0fc7278e2166"
  },
  {
   "metadata": {},
   "cell_type": "code",
   "outputs": [],
   "execution_count": null,
   "source": [
    "subcadena_hola = cadena[0:4]\n",
    "print(subcadena_hola)\n",
    "print(f\"La subcadena es: {subcadena_hola}\")"
   ],
   "id": "7f00fa94d997d8f5"
  },
  {
   "metadata": {},
   "cell_type": "markdown",
   "source": "#forma alternativa",
   "id": "bbe85bf5e362fdb9"
  },
  {
   "metadata": {},
   "cell_type": "code",
   "outputs": [],
   "execution_count": null,
   "source": "print(f'La subcadena es: {cadena[0:4]}')",
   "id": "99e49c9000343ade"
  },
  {
   "metadata": {},
   "cell_type": "markdown",
   "source": "#Extraer la subcadena \"Mundo\"",
   "id": "9bbf56609e487f07"
  },
  {
   "metadata": {},
   "cell_type": "code",
   "outputs": [],
   "execution_count": null,
   "source": [
    "subcadena_mundo = cadena[5:10]\n",
    "print(subcadena_mundo)\n",
    "print(f\"La subcadena es: {subcadena_mundo}\")\n",
    "#Forma alternativa\n",
    "print(f'La subcadena es: {cadena[5:10]}')"
   ],
   "id": "15cad2992be3646a"
  },
  {
   "metadata": {},
   "cell_type": "markdown",
   "source": "#Forma alternativa",
   "id": "663629df61f882ec"
  },
  {
   "metadata": {},
   "cell_type": "code",
   "outputs": [],
   "execution_count": null,
   "source": "print(f'La subcadena es: {cadena[5:10]}')",
   "id": "9bf90af5a753b1ba"
  },
  {
   "metadata": {},
   "cell_type": "markdown",
   "source": "#Extraer la subcadena \"Mundo\" usando slicing negativo",
   "id": "6bedff5508870714"
  },
  {
   "metadata": {},
   "cell_type": "code",
   "outputs": [],
   "execution_count": null,
   "source": [
    "subcadena_mundo_negativo = cadena[-5:]\n",
    "print(subcadena_mundo_negativo)\n",
    "print(f\"La subcadena es: {subcadena_mundo_negativo}\")"
   ],
   "id": "cf236c965659ec6c"
  },
  {
   "metadata": {},
   "cell_type": "markdown",
   "source": "#Forma alternativa",
   "id": "c283dc3a313a58d5"
  },
  {
   "metadata": {},
   "cell_type": "code",
   "outputs": [],
   "execution_count": null,
   "source": "print(f'La subcadena es: {cadena[-5:]}')",
   "id": "208f899a04fb0919"
  }
 ],
 "metadata": {
  "kernelspec": {
   "display_name": "Python 3",
   "language": "python",
   "name": "python3"
  },
  "language_info": {
   "codemirror_mode": {
    "name": "ipython",
    "version": 2
   },
   "file_extension": ".py",
   "mimetype": "text/x-python",
   "name": "python",
   "nbconvert_exporter": "python",
   "pygments_lexer": "ipython2",
   "version": "2.7.6"
  }
 },
 "nbformat": 4,
 "nbformat_minor": 5
}
